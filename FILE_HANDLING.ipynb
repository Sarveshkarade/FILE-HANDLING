{
  "nbformat": 4,
  "nbformat_minor": 0,
  "metadata": {
    "colab": {
      "provenance": []
    },
    "kernelspec": {
      "name": "python3",
      "display_name": "Python 3"
    },
    "language_info": {
      "name": "python"
    }
  },
  "cells": [
    {
      "cell_type": "code",
      "execution_count": null,
      "metadata": {
        "id": "N3GvdN3nTC-P"
      },
      "outputs": [],
      "source": [
        "##FILE HANDLING ASSIGNMENT"
      ]
    },
    {
      "cell_type": "code",
      "source": [
        "#Q1:\n",
        "with open('example.txt', 'w') as file:\n",
        "    file.write(\"Hello, this is PW skills!\")"
      ],
      "metadata": {
        "id": "wAS1SG6vThp_"
      },
      "execution_count": null,
      "outputs": []
    },
    {
      "cell_type": "code",
      "source": [
        "#Q2:\n",
        "with open('example.txt', 'r') as file:\n",
        "    for line in file:\n",
        "        print(line, end='')"
      ],
      "metadata": {
        "colab": {
          "base_uri": "https://localhost:8080/"
        },
        "id": "tG_NkpZGVZlt",
        "outputId": "b1795eff-fd25-4b70-f759-fda4f958549c"
      },
      "execution_count": null,
      "outputs": [
        {
          "output_type": "stream",
          "name": "stdout",
          "text": [
            "Hello, this is PW skills!"
          ]
        }
      ]
    },
    {
      "cell_type": "code",
      "source": [
        "#Q3:\n",
        "try:\n",
        "    with open('example.txt', 'r') as file:\n",
        "        for line in file:\n",
        "            print(line, end='')\n",
        "except FileNotFoundError:\n",
        "    print(\"The file does not exist.\")\n"
      ],
      "metadata": {
        "colab": {
          "base_uri": "https://localhost:8080/"
        },
        "id": "P3CgQtI9WUwM",
        "outputId": "8ba16516-ab82-4f89-9d6e-9e7ec0bb3886"
      },
      "execution_count": null,
      "outputs": [
        {
          "output_type": "stream",
          "name": "stdout",
          "text": [
            "Hello, this is PW skills!"
          ]
        }
      ]
    },
    {
      "cell_type": "code",
      "source": [
        "#Q4:\n",
        "with open('source_file.txt', 'r') as source_file:\n",
        "    content = source_file.read()\n",
        "with open('destination_file.txt', 'w') as destination_file:\n",
        "    destination_file.write(content)\n",
        "print(\"File content has been copied successfully!\")"
      ],
      "metadata": {
        "id": "PZKLuaE4YOji"
      },
      "execution_count": null,
      "outputs": []
    },
    {
      "cell_type": "code",
      "source": [
        "#Q5:\n",
        "try:\n",
        "    numerator = 10\n",
        "    denominator = 0\n",
        "    result = numerator / denominator\n",
        "    print(f\"The result is {result}\")\n",
        "except ZeroDivisionError:\n",
        "    print(\"Error: Cannot divide by zero!\")"
      ],
      "metadata": {
        "colab": {
          "base_uri": "https://localhost:8080/"
        },
        "id": "v1deTtEOZJfb",
        "outputId": "27616bd3-7421-4cf5-95be-a0e3523707bf"
      },
      "execution_count": 8,
      "outputs": [
        {
          "output_type": "stream",
          "name": "stdout",
          "text": [
            "Error: Cannot divide by zero!\n"
          ]
        }
      ]
    },
    {
      "cell_type": "code",
      "source": [
        "#Q6:\n",
        "import logging\n",
        "logging.basicConfig(\n",
        "    filename='error_log.txt',\n",
        "    level=logging.ERROR,\n",
        "    format='%(asctime)s - %(levelname)s - %(message)s'\n",
        ")\n",
        "\n",
        "try:\n",
        "    numerator = 10\n",
        "    denominator = 0\n",
        "    result = numerator / denominator\n",
        "    print(f\"The result is {result}\")\n",
        "except ZeroDivisionError as e:\n",
        "    logging.error(\"Attempted to divide by zero!\")\n",
        "    logging.error(f\"Error details: {e}\")\n",
        "    print(\"Error: Cannot divide by zero! The error has been logged.\")"
      ],
      "metadata": {
        "colab": {
          "base_uri": "https://localhost:8080/"
        },
        "id": "SIElPCpzZpZc",
        "outputId": "96cd806b-b050-421a-8996-2ca96ab84960"
      },
      "execution_count": 9,
      "outputs": [
        {
          "output_type": "stream",
          "name": "stderr",
          "text": [
            "ERROR:root:Attempted to divide by zero!\n",
            "ERROR:root:Error details: division by zero\n"
          ]
        },
        {
          "output_type": "stream",
          "name": "stdout",
          "text": [
            "Error: Cannot divide by zero! The error has been logged.\n"
          ]
        }
      ]
    },
    {
      "cell_type": "code",
      "source": [
        "#Q7:\n",
        "import logging\n",
        "logging.basicConfig(\n",
        "    filename='app_log.txt',\n",
        "    level=logging.DEBUG,\n",
        "    format='%(asctime)s - %(levelname)s - %(message)s'\n",
        ")\n",
        "logging.debug(\"This is a debug message. It's useful for troubleshooting.\")\n",
        "logging.info(\"This is an info message. It's for general information.\")\n",
        "logging.warning(\"This is a warning message. Something unexpected happened, but it's not critical.\")\n",
        "logging.error(\"This is an error message. Something went wrong.\")\n",
        "logging.critical(\"This is a critical message. A serious error occurred!\")\n",
        "\n",
        "print(\"Logging messages at different levels.\")\n"
      ],
      "metadata": {
        "colab": {
          "base_uri": "https://localhost:8080/"
        },
        "id": "DSwvNHQJgdW4",
        "outputId": "2a7866fa-d012-441d-c6b4-0b171592229d"
      },
      "execution_count": 11,
      "outputs": [
        {
          "output_type": "stream",
          "name": "stderr",
          "text": [
            "WARNING:root:This is a warning message. Something unexpected happened, but it's not critical.\n",
            "ERROR:root:This is an error message. Something went wrong.\n",
            "CRITICAL:root:This is a critical message. A serious error occurred!\n"
          ]
        },
        {
          "output_type": "stream",
          "name": "stdout",
          "text": [
            "Logging messages at different levels.\n"
          ]
        }
      ]
    },
    {
      "cell_type": "code",
      "source": [
        "#Q8:\n",
        "try:\n",
        "    with open('non_existent_file.txt', 'r') as file:\n",
        "        content = file.read()\n",
        "        print(content)\n",
        "except FileNotFoundError as e:\n",
        "    print(f\"Error: The file does not exist. {e}\")\n",
        "except IOError as e:\n",
        "    print(f\"Error: An I/O error occurred. {e}\")\n"
      ],
      "metadata": {
        "colab": {
          "base_uri": "https://localhost:8080/"
        },
        "id": "uEXEApL1iFwn",
        "outputId": "3f9c5b33-a78e-484e-abdb-da3fb60f5e95"
      },
      "execution_count": 13,
      "outputs": [
        {
          "output_type": "stream",
          "name": "stdout",
          "text": [
            "Error: The file does not exist. [Errno 2] No such file or directory: 'non_existent_file.txt'\n"
          ]
        }
      ]
    },
    {
      "cell_type": "code",
      "source": [
        "#Q9:\n",
        "with open('your_file.txt', 'r') as file:\n",
        "    lines = file.readlines()\n",
        "print(lines)"
      ],
      "metadata": {
        "id": "0kAzy5AWjQdM"
      },
      "execution_count": null,
      "outputs": []
    },
    {
      "cell_type": "code",
      "source": [
        "#Q10:\n",
        "with open('existing_file.txt', 'a') as file:\n",
        "    file.write(\"\\nThis is new data being appended to the file.\")\n",
        "print(\"Data has been appended to the file successfully.\")"
      ],
      "metadata": {
        "colab": {
          "base_uri": "https://localhost:8080/"
        },
        "id": "PLED3mx8j23s",
        "outputId": "d9e7eca2-cc0d-43ef-d9e9-dc50c5f9af60"
      },
      "execution_count": 15,
      "outputs": [
        {
          "output_type": "stream",
          "name": "stdout",
          "text": [
            "Data has been appended to the file successfully.\n"
          ]
        }
      ]
    },
    {
      "cell_type": "code",
      "source": [
        "#Q11:\n",
        "my_dict = {\"name\": \"John\", \"age\": 30, \"city\": \"New York\"}\n",
        "try:\n",
        "    value = my_dict[\"country\"]\n",
        "    print(value)\n",
        "except KeyError as e:\n",
        "    print(f\"Error: The key '{e}' was not found in the dictionary.\")\n"
      ],
      "metadata": {
        "colab": {
          "base_uri": "https://localhost:8080/"
        },
        "id": "H9lxb2U9kMiH",
        "outputId": "142d65f9-52b4-4fa5-81d9-c0336de9d992"
      },
      "execution_count": 16,
      "outputs": [
        {
          "output_type": "stream",
          "name": "stdout",
          "text": [
            "Error: The key ''country'' was not found in the dictionary.\n"
          ]
        }
      ]
    },
    {
      "cell_type": "code",
      "source": [
        "#Q12:\n",
        "def handle_exceptions():\n",
        "    try:\n",
        "    except ZeroDivisionError as e:\n",
        "        print(f\"Error: You tried to divide by zero. Details: {e}\")\n",
        "    except FileNotFoundError as e:\n",
        "        print(f\"Error: The file was not found. Details: {e}\")\n",
        "    except ValueError as e:\n",
        "        print(f\"Error: There was a problem with a value. Details: {e}\")\n",
        "    except IndexError as e:\n",
        "        print(f\"Error: You tried to access an index that is out of range. Details: {e}\")\n",
        "    except Exception as e:\n",
        "        print(f\"An unexpected error occurred: {e}\")\n",
        "handle_exceptions()\n"
      ],
      "metadata": {
        "id": "cg3kpuC2khE_"
      },
      "execution_count": null,
      "outputs": []
    },
    {
      "cell_type": "code",
      "source": [
        "#Q13:\n",
        "import os\n",
        "file_path = 'your_file.txt'\n",
        "if os.path.exists(file_path):\n",
        "    with open(file_path, 'r') as file:\n",
        "        content = file.read()\n",
        "        print(content)\n",
        "else:\n",
        "    print(f\"Error: The file '{file_path}' does not exist.\")\n"
      ],
      "metadata": {
        "colab": {
          "base_uri": "https://localhost:8080/"
        },
        "id": "MBdXsUxllb66",
        "outputId": "efd61f81-9c04-43b5-98b6-f1941872e1a8"
      },
      "execution_count": 21,
      "outputs": [
        {
          "output_type": "stream",
          "name": "stdout",
          "text": [
            "Error: The file 'your_file.txt' does not exist.\n"
          ]
        }
      ]
    },
    {
      "cell_type": "code",
      "source": [
        "#Q14:\n",
        "import logging\n",
        "logging.basicConfig(\n",
        "    filename='app_log.txt',  # Log file where messages will be stored\n",
        "    level=logging.DEBUG,     # Log level to capture all messages (DEBUG and above)\n",
        "    format='%(asctime)s - %(levelname)s - %(message)s'  # Log message format\n",
        ")\n",
        "\n",
        "logging.info(\"This is an informational message.\")\n",
        "logging.warning(\"This is a warning message.\")\n",
        "logging.error(\"This is an error message.\")\n",
        "logging.critical(\"This is a critical message.\")\n",
        "try:\n",
        "    result = 10 / 0\n",
        "except ZeroDivisionError as e:\n",
        "    logging.error(f\"Error occurred: {e}\")  # Log the exception\n",
        "\n",
        "print(\"Logging has been done. Check the 'app_log.txt' file for logs.\")\n"
      ],
      "metadata": {
        "colab": {
          "base_uri": "https://localhost:8080/"
        },
        "id": "9t19BjMSmNP5",
        "outputId": "fc02c24a-9371-4d8c-e4a8-922f129c58a6"
      },
      "execution_count": 22,
      "outputs": [
        {
          "output_type": "stream",
          "name": "stderr",
          "text": [
            "WARNING:root:This is a warning message.\n",
            "ERROR:root:This is an error message.\n",
            "CRITICAL:root:This is a critical message.\n",
            "ERROR:root:Error occurred: division by zero\n"
          ]
        },
        {
          "output_type": "stream",
          "name": "stdout",
          "text": [
            "Logging has been done. Check the 'app_log.txt' file for logs.\n"
          ]
        }
      ]
    },
    {
      "cell_type": "code",
      "source": [
        "#Q15:\n",
        "def read_file(file_path):\n",
        "    try:\n",
        "        with open(file_path, 'r') as file:\n",
        "            content = file.read()\n",
        "            if content:\n",
        "                print(\"File content:\")\n",
        "                print(content)\n",
        "            else:\n",
        "                print(\"The file is empty.\")\n",
        "\n",
        "    except FileNotFoundError:\n",
        "        print(f\"Error: The file '{file_path}' was not found.\")\n",
        "    except IOError as e:\n",
        "        print(f\"Error: An I/O error occurred while reading the file. Details: {e}\")\n",
        "file_path = 'your_file.txt'\n",
        "read_file(file_path)\n"
      ],
      "metadata": {
        "colab": {
          "base_uri": "https://localhost:8080/"
        },
        "id": "fOZ30RYAmm9Q",
        "outputId": "685439ab-7aa9-483b-aeea-fc89aa243212"
      },
      "execution_count": 23,
      "outputs": [
        {
          "output_type": "stream",
          "name": "stdout",
          "text": [
            "Error: The file 'your_file.txt' was not found.\n"
          ]
        }
      ]
    },
    {
      "cell_type": "code",
      "source": [
        "#Q16:\n",
        "from memory_profiler import profile\n",
        "@profile\n",
        "def my_function():\n",
        "    a = [1] * (10**6)\n",
        "    b = [2] * (2 * 10**7)\n",
        "    del b\n",
        "    return a\n",
        "my_function()\n"
      ],
      "metadata": {
        "id": "FXO5pLHanGv3"
      },
      "execution_count": null,
      "outputs": []
    },
    {
      "cell_type": "code",
      "source": [
        "#Q17:\n",
        "numbers = [1, 2, 3, 4, 5, 6, 7, 8, 9, 10]\n",
        "with open('numbers.txt', 'w') as file:\n",
        "    for number in numbers:\n",
        "        file.write(f\"{number}\\n\")\n",
        "\n",
        "print(\"Numbers have been written to 'numbers.txt'.\")\n"
      ],
      "metadata": {
        "colab": {
          "base_uri": "https://localhost:8080/"
        },
        "id": "NfCHxW0CnknS",
        "outputId": "d507f550-c9a6-4394-cd6e-0f9f4cdb04d2"
      },
      "execution_count": 25,
      "outputs": [
        {
          "output_type": "stream",
          "name": "stdout",
          "text": [
            "Numbers have been written to 'numbers.txt'.\n"
          ]
        }
      ]
    },
    {
      "cell_type": "code",
      "source": [
        "#Q18:\n",
        "import logging\n",
        "from logging.handlers import RotatingFileHandler\n",
        "logger = logging.getLogger('my_logger')\n",
        "logger.setLevel(logging.DEBUG)\n",
        "log_handler = RotatingFileHandler('app.log', maxBytes=1*1024*1024, backupCount=3)\n",
        "log_handler.setLevel(logging.DEBUG)\n",
        "log_format = logging.Formatter('%(asctime)s - %(levelname)s - %(message)s')\n",
        "log_handler.setFormatter(log_format)\n",
        "logger.addHandler(log_handler)\n",
        "logger.debug(\"This is a debug message.\")\n",
        "logger.info(\"This is an info message.\")\n",
        "logger.warning(\"This is a warning message.\")\n",
        "logger.error(\"This is an error message.\")\n",
        "logger.critical(\"This is a critical message.\")\n"
      ],
      "metadata": {
        "colab": {
          "base_uri": "https://localhost:8080/"
        },
        "id": "d5KcwdaCn9yG",
        "outputId": "283e6a02-5728-4f3d-b1fd-83986fe6664b"
      },
      "execution_count": 26,
      "outputs": [
        {
          "output_type": "stream",
          "name": "stderr",
          "text": [
            "DEBUG:my_logger:This is a debug message.\n",
            "INFO:my_logger:This is an info message.\n",
            "WARNING:my_logger:This is a warning message.\n",
            "ERROR:my_logger:This is an error message.\n",
            "CRITICAL:my_logger:This is a critical message.\n"
          ]
        }
      ]
    },
    {
      "cell_type": "code",
      "source": [
        "#Q19:\n",
        "def handle_errors():\n",
        "    my_list = [1, 2, 3]\n",
        "    my_dict = {\"name\": \"John\", \"age\": 30}\n",
        "\n",
        "    try:\n",
        "        print(my_list[5])\n",
        "        print(my_dict[\"address\"])\n",
        "\n",
        "    except IndexError as ie:\n",
        "        print(f\"IndexError: {ie} - You tried to access an invalid index in the list.\")\n",
        "\n",
        "    except KeyError as ke:\n",
        "        print(f\"KeyError: {ke} - You tried to access a non-existent key in the dictionary.\")\n",
        "\n",
        "    except Exception as e:\n",
        "        print(f\"An unexpected error occurred: {e}\")\n",
        "handle_errors()\n"
      ],
      "metadata": {
        "colab": {
          "base_uri": "https://localhost:8080/"
        },
        "id": "mSTGzPMvoY4I",
        "outputId": "ff8d7a6a-4bd1-41de-e3cb-c70cf08cfb4a"
      },
      "execution_count": 27,
      "outputs": [
        {
          "output_type": "stream",
          "name": "stdout",
          "text": [
            "IndexError: list index out of range - You tried to access an invalid index in the list.\n"
          ]
        }
      ]
    },
    {
      "cell_type": "code",
      "source": [
        "#Q20:\n",
        "file_path = 'sample.txt'\n",
        "with open(file_path, 'r') as file:\n",
        "    content = file.read()\n",
        "    print(content)"
      ],
      "metadata": {
        "id": "j-FncC0SoxSY"
      },
      "execution_count": null,
      "outputs": []
    },
    {
      "cell_type": "code",
      "source": [
        "#Q21:\n",
        "def count_word_occurrences(file_path, word_to_count):\n",
        "    try:\n",
        "        with open(file_path, 'r') as file:\n",
        "            content = file.read()\n",
        "            words = content.lower().split()\n",
        "            word_count = words.count(word_to_count.lower())\n",
        "            print(f\"The word '{word_to_count}' occurs {word_count} times.\")\n",
        "\n",
        "    except FileNotFoundError:\n",
        "        print(f\"Error: The file '{file_path}' was not found.\")\n",
        "    except Exception as e:\n",
        "        print(f\"An unexpected error occurred: {e}\")\n",
        "\n",
        "file_path = 'sample.txt'\n",
        "word_to_count = 'python'\n",
        "count_word_occurrences(file_path, word_to_count)\n"
      ],
      "metadata": {
        "colab": {
          "base_uri": "https://localhost:8080/"
        },
        "id": "yNLK0QiApVKB",
        "outputId": "78994b5c-d46c-4289-9e36-a86e86e34dc4"
      },
      "execution_count": 29,
      "outputs": [
        {
          "output_type": "stream",
          "name": "stdout",
          "text": [
            "Error: The file 'sample.txt' was not found.\n"
          ]
        }
      ]
    },
    {
      "cell_type": "code",
      "source": [
        "#Q22:\n",
        "import os\n",
        "\n",
        "def read_file_if_not_empty(file_path):\n",
        "\n",
        "    if os.path.exists(file_path) and os.stat(file_path).st_size > 0:\n",
        "        with open(file_path, 'r') as file:\n",
        "            content = file.read()\n",
        "            print(content)\n",
        "    else:\n",
        "        print(f\"The file '{file_path}' is empty or does not exist.\")\n",
        "file_path = 'sample.txt'\n",
        "read_file_if_not_empty(file_path)\n"
      ],
      "metadata": {
        "colab": {
          "base_uri": "https://localhost:8080/"
        },
        "id": "9RjbQvkXpzrG",
        "outputId": "5865780f-de46-4830-baa4-0306ea48b2de"
      },
      "execution_count": 30,
      "outputs": [
        {
          "output_type": "stream",
          "name": "stdout",
          "text": [
            "The file 'sample.txt' is empty or does not exist.\n"
          ]
        }
      ]
    },
    {
      "cell_type": "code",
      "source": [
        "#Q23:\n",
        "import logging\n",
        "logging.basicConfig(filename='file_handling_errors.log',\n",
        "                    level=logging.ERROR,\n",
        "                    format='%(asctime)s - %(levelname)s - %(message)s')\n",
        "def read_file(file_path):\n",
        "    try:\n",
        "        with open(file_path, 'r') as file:\n",
        "            content = file.read()\n",
        "            print(content)\n",
        "    except FileNotFoundError as e:\n",
        "        logging.error(f\"FileNotFoundError: The file '{file_path}' does not exist. Error details: {e}\")\n",
        "        print(f\"Error: The file '{file_path}' was not found.\")\n",
        "    except IOError as e:\n",
        "        logging.error(f\"IOError: There was an issue reading the file '{file_path}'. Error details: {e}\")\n",
        "        print(f\"Error: There was an issue reading the file '{file_path}'.\")\n",
        "    except Exception as e:\n",
        "        logging.error(f\"Unexpected error occurred while handling the file '{file_path}': {e}\")\n",
        "        print(f\"An unexpected error occurred: {e}\")\n",
        "file_path = 'sample.txt'\n",
        "read_file(file_path)\n"
      ],
      "metadata": {
        "colab": {
          "base_uri": "https://localhost:8080/"
        },
        "id": "PJbYu4LoqMZr",
        "outputId": "72ac8846-a838-404f-eba6-48c5b66f8590"
      },
      "execution_count": 31,
      "outputs": [
        {
          "output_type": "stream",
          "name": "stderr",
          "text": [
            "ERROR:root:FileNotFoundError: The file 'sample.txt' does not exist. Error details: [Errno 2] No such file or directory: 'sample.txt'\n"
          ]
        },
        {
          "output_type": "stream",
          "name": "stdout",
          "text": [
            "Error: The file 'sample.txt' was not found.\n"
          ]
        }
      ]
    }
  ]
}